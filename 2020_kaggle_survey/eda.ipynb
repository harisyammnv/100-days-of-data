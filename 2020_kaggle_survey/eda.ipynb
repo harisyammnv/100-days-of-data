{
 "cells": [
  {
   "cell_type": "code",
   "execution_count": 39,
   "metadata": {},
   "outputs": [],
   "source": [
    "import csv\n",
    "import json\n",
    "import re\n",
    "import numpy as np\n",
    "import pandas as pd\n",
    "from pyecharts.charts import Bar,Pie, Timeline\n",
    "from pyecharts.commons.utils import JsCode\n",
    "\n",
    "from pyecharts import options as opts\n",
    "from collections import Counter, OrderedDict"
   ]
  },
  {
   "cell_type": "code",
   "execution_count": 40,
   "metadata": {},
   "outputs": [
    {
     "name": "stderr",
     "output_type": "stream",
     "text": [
      "/home/harisyam/anaconda3/lib/python3.8/site-packages/IPython/core/interactiveshell.py:3071: DtypeWarning: Columns (0,2,8,10,21,23,24,25,26,27,28,44,56,64,83,85,87,107,109,123,125,150,157,172,174,194,210,218,219,223,246,249,262,264,276,277,278,279,280,281,282,283,284,285,286,287,288,289,290,304,306,325,326,329,341,368,371,384,385,389,390,391,393,394) have mixed types.Specify dtype option on import or set low_memory=False.\n",
      "  has_raised = await self.run_ast_nodes(code_ast.body, cell_name,\n",
      "/home/harisyam/anaconda3/lib/python3.8/site-packages/IPython/core/interactiveshell.py:3071: DtypeWarning: Columns (0,3,7,19,34,47,49,50,51,52,53,54,68,81,94,96,109,115,130,139,147,154,167,180,193,206,219,232,245) have mixed types.Specify dtype option on import or set low_memory=False.\n",
      "  has_raised = await self.run_ast_nodes(code_ast.body, cell_name,\n"
     ]
    }
   ],
   "source": [
    "df_2018 = pd.read_csv('/home/harisyam/PycharmProjects/ML_WS/2020_kaggle_survey/kaggle-survey-2018/multipleChoiceResponses.csv')\n",
    "df_2018 = df_2018.drop([0])\n",
    "df_2019 = pd.read_csv('/home/harisyam/PycharmProjects/ML_WS/2020_kaggle_survey/kaggle-survey-2019/multiple_choice_responses.csv')\n",
    "df_2019 = df_2019.drop([0])"
   ]
  },
  {
   "cell_type": "code",
   "execution_count": 41,
   "metadata": {
    "pycharm": {
     "name": "#%%\n"
    }
   },
   "outputs": [
    {
     "name": "stderr",
     "output_type": "stream",
     "text": [
      "/home/harisyam/anaconda3/lib/python3.8/site-packages/IPython/core/interactiveshell.py:3071: DtypeWarning: Columns (0) have mixed types.Specify dtype option on import or set low_memory=False.\n",
      "  has_raised = await self.run_ast_nodes(code_ast.body, cell_name,\n"
     ]
    },
    {
     "data": {
      "text/html": [
       "<div>\n",
       "<style scoped>\n",
       "    .dataframe tbody tr th:only-of-type {\n",
       "        vertical-align: middle;\n",
       "    }\n",
       "\n",
       "    .dataframe tbody tr th {\n",
       "        vertical-align: top;\n",
       "    }\n",
       "\n",
       "    .dataframe thead th {\n",
       "        text-align: right;\n",
       "    }\n",
       "</style>\n",
       "<table border=\"1\" class=\"dataframe\">\n",
       "  <thead>\n",
       "    <tr style=\"text-align: right;\">\n",
       "      <th></th>\n",
       "      <th>Time from Start to Finish (seconds)</th>\n",
       "      <th>Q1</th>\n",
       "      <th>Q2</th>\n",
       "      <th>Q3</th>\n",
       "      <th>Q4</th>\n",
       "      <th>Q5</th>\n",
       "      <th>Q6</th>\n",
       "      <th>Q7_Part_1</th>\n",
       "      <th>Q7_Part_2</th>\n",
       "      <th>Q7_Part_3</th>\n",
       "      <th>...</th>\n",
       "      <th>Q35_B_Part_2</th>\n",
       "      <th>Q35_B_Part_3</th>\n",
       "      <th>Q35_B_Part_4</th>\n",
       "      <th>Q35_B_Part_5</th>\n",
       "      <th>Q35_B_Part_6</th>\n",
       "      <th>Q35_B_Part_7</th>\n",
       "      <th>Q35_B_Part_8</th>\n",
       "      <th>Q35_B_Part_9</th>\n",
       "      <th>Q35_B_Part_10</th>\n",
       "      <th>Q35_B_OTHER</th>\n",
       "    </tr>\n",
       "  </thead>\n",
       "  <tbody>\n",
       "    <tr>\n",
       "      <th>1</th>\n",
       "      <td>1838</td>\n",
       "      <td>35-39</td>\n",
       "      <td>Man</td>\n",
       "      <td>Colombia</td>\n",
       "      <td>Doctoral degree</td>\n",
       "      <td>Student</td>\n",
       "      <td>5-10 years</td>\n",
       "      <td>Python</td>\n",
       "      <td>R</td>\n",
       "      <td>SQL</td>\n",
       "      <td>...</td>\n",
       "      <td>NaN</td>\n",
       "      <td>NaN</td>\n",
       "      <td>NaN</td>\n",
       "      <td>TensorBoard</td>\n",
       "      <td>NaN</td>\n",
       "      <td>NaN</td>\n",
       "      <td>NaN</td>\n",
       "      <td>NaN</td>\n",
       "      <td>NaN</td>\n",
       "      <td>NaN</td>\n",
       "    </tr>\n",
       "    <tr>\n",
       "      <th>2</th>\n",
       "      <td>289287</td>\n",
       "      <td>30-34</td>\n",
       "      <td>Man</td>\n",
       "      <td>United States of America</td>\n",
       "      <td>Master’s degree</td>\n",
       "      <td>Data Engineer</td>\n",
       "      <td>5-10 years</td>\n",
       "      <td>Python</td>\n",
       "      <td>R</td>\n",
       "      <td>SQL</td>\n",
       "      <td>...</td>\n",
       "      <td>NaN</td>\n",
       "      <td>NaN</td>\n",
       "      <td>NaN</td>\n",
       "      <td>NaN</td>\n",
       "      <td>NaN</td>\n",
       "      <td>NaN</td>\n",
       "      <td>NaN</td>\n",
       "      <td>NaN</td>\n",
       "      <td>NaN</td>\n",
       "      <td>NaN</td>\n",
       "    </tr>\n",
       "    <tr>\n",
       "      <th>3</th>\n",
       "      <td>860</td>\n",
       "      <td>35-39</td>\n",
       "      <td>Man</td>\n",
       "      <td>Argentina</td>\n",
       "      <td>Bachelor’s degree</td>\n",
       "      <td>Software Engineer</td>\n",
       "      <td>10-20 years</td>\n",
       "      <td>NaN</td>\n",
       "      <td>NaN</td>\n",
       "      <td>NaN</td>\n",
       "      <td>...</td>\n",
       "      <td>NaN</td>\n",
       "      <td>NaN</td>\n",
       "      <td>NaN</td>\n",
       "      <td>NaN</td>\n",
       "      <td>NaN</td>\n",
       "      <td>NaN</td>\n",
       "      <td>NaN</td>\n",
       "      <td>NaN</td>\n",
       "      <td>None</td>\n",
       "      <td>NaN</td>\n",
       "    </tr>\n",
       "    <tr>\n",
       "      <th>4</th>\n",
       "      <td>507</td>\n",
       "      <td>30-34</td>\n",
       "      <td>Man</td>\n",
       "      <td>United States of America</td>\n",
       "      <td>Master’s degree</td>\n",
       "      <td>Data Scientist</td>\n",
       "      <td>5-10 years</td>\n",
       "      <td>Python</td>\n",
       "      <td>NaN</td>\n",
       "      <td>SQL</td>\n",
       "      <td>...</td>\n",
       "      <td>NaN</td>\n",
       "      <td>NaN</td>\n",
       "      <td>NaN</td>\n",
       "      <td>NaN</td>\n",
       "      <td>NaN</td>\n",
       "      <td>NaN</td>\n",
       "      <td>NaN</td>\n",
       "      <td>NaN</td>\n",
       "      <td>NaN</td>\n",
       "      <td>NaN</td>\n",
       "    </tr>\n",
       "    <tr>\n",
       "      <th>5</th>\n",
       "      <td>78</td>\n",
       "      <td>30-34</td>\n",
       "      <td>Man</td>\n",
       "      <td>Japan</td>\n",
       "      <td>Master’s degree</td>\n",
       "      <td>Software Engineer</td>\n",
       "      <td>3-5 years</td>\n",
       "      <td>Python</td>\n",
       "      <td>NaN</td>\n",
       "      <td>NaN</td>\n",
       "      <td>...</td>\n",
       "      <td>NaN</td>\n",
       "      <td>NaN</td>\n",
       "      <td>NaN</td>\n",
       "      <td>NaN</td>\n",
       "      <td>NaN</td>\n",
       "      <td>NaN</td>\n",
       "      <td>NaN</td>\n",
       "      <td>NaN</td>\n",
       "      <td>NaN</td>\n",
       "      <td>NaN</td>\n",
       "    </tr>\n",
       "  </tbody>\n",
       "</table>\n",
       "<p>5 rows × 355 columns</p>\n",
       "</div>"
      ],
      "text/plain": [
       "  Time from Start to Finish (seconds)     Q1   Q2                        Q3  \\\n",
       "1                                1838  35-39  Man                  Colombia   \n",
       "2                              289287  30-34  Man  United States of America   \n",
       "3                                 860  35-39  Man                 Argentina   \n",
       "4                                 507  30-34  Man  United States of America   \n",
       "5                                  78  30-34  Man                     Japan   \n",
       "\n",
       "                  Q4                 Q5           Q6 Q7_Part_1 Q7_Part_2  \\\n",
       "1    Doctoral degree            Student   5-10 years    Python         R   \n",
       "2    Master’s degree      Data Engineer   5-10 years    Python         R   \n",
       "3  Bachelor’s degree  Software Engineer  10-20 years       NaN       NaN   \n",
       "4    Master’s degree     Data Scientist   5-10 years    Python       NaN   \n",
       "5    Master’s degree  Software Engineer    3-5 years    Python       NaN   \n",
       "\n",
       "  Q7_Part_3  ... Q35_B_Part_2 Q35_B_Part_3 Q35_B_Part_4   Q35_B_Part_5  \\\n",
       "1       SQL  ...          NaN          NaN          NaN   TensorBoard    \n",
       "2       SQL  ...          NaN          NaN          NaN            NaN   \n",
       "3       NaN  ...          NaN          NaN          NaN            NaN   \n",
       "4       SQL  ...          NaN          NaN          NaN            NaN   \n",
       "5       NaN  ...          NaN          NaN          NaN            NaN   \n",
       "\n",
       "  Q35_B_Part_6 Q35_B_Part_7 Q35_B_Part_8 Q35_B_Part_9 Q35_B_Part_10  \\\n",
       "1          NaN          NaN          NaN          NaN           NaN   \n",
       "2          NaN          NaN          NaN          NaN           NaN   \n",
       "3          NaN          NaN          NaN          NaN          None   \n",
       "4          NaN          NaN          NaN          NaN           NaN   \n",
       "5          NaN          NaN          NaN          NaN           NaN   \n",
       "\n",
       "  Q35_B_OTHER  \n",
       "1         NaN  \n",
       "2         NaN  \n",
       "3         NaN  \n",
       "4         NaN  \n",
       "5         NaN  \n",
       "\n",
       "[5 rows x 355 columns]"
      ]
     },
     "execution_count": 41,
     "metadata": {},
     "output_type": "execute_result"
    }
   ],
   "source": [
    "df_responses = pd.read_csv('./kaggle-survey-2020/kaggle_survey_2020_responses.csv')\n",
    "df_responses = df_responses.drop([0])\n",
    "df_responses.head()"
   ]
  },
  {
   "cell_type": "code",
   "execution_count": 42,
   "metadata": {
    "pycharm": {
     "name": "#%%\n"
    }
   },
   "outputs": [
    {
     "data": {
      "text/plain": [
       "'/home/harisyam/PycharmProjects/ML_WS/2020_kaggle_survey/fig1.html'"
      ]
     },
     "execution_count": 42,
     "metadata": {},
     "output_type": "execute_result"
    }
   ],
   "source": [
    "q1 = df_responses['Q1'].value_counts().sort_index()\n",
    "q1=q1.reset_index()\n",
    "q1.columns=['Age-Group', '# of responses']\n",
    "\n",
    "bar=Bar().add_xaxis(q1['Age-Group'].values.tolist())\\\n",
    ".add_yaxis('num responses', q1['# of responses'].values.tolist())\\\n",
    ".set_global_opts(title_opts=opts.TitleOpts(title=\"Number of respondents based on Age Group\", subtitle=\"2020 Kaggle Survey\"),\n",
    "             xaxis_opts=opts.AxisOpts(name='Age-Group'))\\\n",
    ".set_series_opts(\n",
    "        label_opts=opts.LabelOpts(is_show=False),\n",
    "        markpoint_opts=opts.MarkPointOpts(\n",
    "            data=[\n",
    "                opts.MarkPointItem(type_=\"max\", name=\"Maximum no. of responses\"),\n",
    "                opts.MarkPointItem(type_=\"min\", name=\"Minimum no. of responses\"),\n",
    "            ]\n",
    "        ),\n",
    "    )\n",
    "\n",
    "bar.render('fig1.html')"
   ]
  },
  {
   "cell_type": "code",
   "execution_count": 43,
   "metadata": {
    "pycharm": {
     "name": "#%%\n"
    }
   },
   "outputs": [
    {
     "data": {
      "text/plain": [
       "'/home/harisyam/PycharmProjects/ML_WS/2020_kaggle_survey/fig2.html'"
      ]
     },
     "execution_count": 43,
     "metadata": {},
     "output_type": "execute_result"
    }
   ],
   "source": [
    "df_responses['Q4'] = df_responses['Q4'].map({'Master’s degree': 'Master',\n",
    "                                       'Bachelor’s degree': 'Bachelor', 'Doctoral degree': 'Higher than Master',\n",
    "                                       'Some college/university study without earning a bachelor’s degree': 'Lower than Bachelor',\n",
    "                                      'Professional degree': 'Higher than Master', 'No formal education past high school':'Lower than Bachelor'})\n",
    "\n",
    "q4=df_responses['Q4'].value_counts().to_frame()\n",
    "q4=q4.reset_index()\n",
    "q4.columns=['Degree', '# of responses']\n",
    "\n",
    "bar=Bar().add_xaxis(q4.Degree.values.tolist())\\\n",
    ".add_yaxis('', q4['# of responses'].values.tolist())\\\n",
    ".set_global_opts(title_opts=opts.TitleOpts(title=\"Number of respondents based on Education Level\",\n",
    "                                           subtitle=\"2020 Kaggle Survey\"), xaxis_opts=opts.AxisOpts(name='Degree'))\n",
    "\n",
    "bar.render('fig2.html')"
   ]
  },
  {
   "cell_type": "code",
   "execution_count": 44,
   "metadata": {
    "pycharm": {
     "name": "#%%\n"
    }
   },
   "outputs": [],
   "source": [
    "df_responses['Q2'] = df_responses['Q2'].apply(lambda x : 'ETC' if x not in ['Man', 'Woman'] else x)\n",
    "total_dist=df_responses.Q2.value_counts(normalize=True)\n",
    "data_q1q2 = df_responses[df_responses['Q2'] != 'ETC'].groupby(['Q2'])['Q1'].value_counts().unstack().sort_index()\n",
    "man = data_q1q2.loc['Man']\n",
    "woman = data_q1q2.loc['Woman']"
   ]
  },
  {
   "cell_type": "code",
   "execution_count": 45,
   "metadata": {},
   "outputs": [],
   "source": [
    "man=man.reset_index()\n",
    "man.columns = ['Age-Group', '# of responses']\n",
    "\n",
    "woman=woman.reset_index()\n",
    "woman.columns = ['Age-Group', '# of responses']"
   ]
  },
  {
   "cell_type": "code",
   "execution_count": 46,
   "metadata": {},
   "outputs": [],
   "source": [
    "total_dist = total_dist.reset_index()"
   ]
  },
  {
   "cell_type": "code",
   "execution_count": 47,
   "metadata": {},
   "outputs": [],
   "source": [
    "total_dist.columns = [\"Group\", \"Percent\"]\n",
    "total_dist.Percent = np.round((total_dist.Percent * 100),2)\n",
    "total_dist['Group'] = total_dist['Group'].apply(lambda x : 'ETC' if x not in ['Man', 'Woman'] else x)"
   ]
  },
  {
   "cell_type": "code",
   "execution_count": 48,
   "metadata": {},
   "outputs": [],
   "source": [
    "total_dist['Group'] = total_dist.Group.map({\"Man\":\"Men\",\"Woman\":\"Women\", \"ETC\":\"ETC\"})"
   ]
  },
  {
   "cell_type": "code",
   "execution_count": 49,
   "metadata": {},
   "outputs": [
    {
     "data": {
      "text/plain": [
       "'/home/harisyam/PycharmProjects/ML_WS/2020_kaggle_survey/fig3.html'"
      ]
     },
     "execution_count": 49,
     "metadata": {},
     "output_type": "execute_result"
    }
   ],
   "source": [
    "bar=Bar().add_xaxis(man['Age-Group'].values.tolist())\\\n",
    ".add_yaxis('Men', man['# of responses'].values.tolist(), stack=\"stack1\")\\\n",
    ".add_yaxis('Women', woman['# of responses'].values.tolist(), stack=\"stack1\")\\\n",
    ".set_series_opts(label_opts=opts.LabelOpts(position=\"inside\"))\\\n",
    ".reversal_axis()\\\n",
    ".set_global_opts(title_opts=opts.TitleOpts(title=\"Number of respondents based on Sex\"),\n",
    "                xaxis_opts=opts.AxisOpts(name='# responses'), yaxis_opts=opts.AxisOpts(name='Age-Group'))\\\n",
    "\n",
    "pie = (\n",
    "    Pie()\n",
    "    .add(\n",
    "        series_name=\"percent responses\",\n",
    "        data_pair=[list(z) for z in zip(total_dist.Group, total_dist.Percent)],\n",
    "        radius=[\"30%\",\"40%\"],\n",
    "        center=[\"75%\", \"35%\"],\n",
    "    )\n",
    "    .set_series_opts(label_opts=opts.LabelOpts(formatter=\"{b}:{c}%\"),\n",
    "        tooltip_opts=opts.TooltipOpts(formatter=\"{b}:{c}%\"))\n",
    ")\n",
    "\n",
    "bar.overlap(pie)\n",
    "\n",
    "bar.render('fig3.html')"
   ]
  },
  {
   "cell_type": "code",
   "execution_count": 50,
   "metadata": {},
   "outputs": [],
   "source": [
    "continents_df = pd.read_csv(\"./kaggle-survey-2020/2020 Continents.csv\")\n",
    "continents_dict = d = {k:v for k,v in zip(continents_df[\"Country\"],continents_df[\"Continents\"])}\n",
    "df_responses[\"Continents\"] = df_responses[\"Q3\"].map(continents_dict)\n",
    "country_long_name_dict = {\"United States of America\": \"USA\", \n",
    "                          \"United Kingdom of Great Britain and Northern Ireland\": \"United Kingdom\",\n",
    "                          \"Iran, Islamic Republic of...\": \"Iran\"\n",
    "                         }\n",
    "df_2018[\"Q3\"] = df_2018[\"Q3\"].replace(country_long_name_dict)\n",
    "df_2019[\"Q3\"] = df_2019[\"Q3\"].replace(country_long_name_dict)\n",
    "df_responses[\"Q3\"] = df_responses[\"Q3\"].replace(country_long_name_dict)"
   ]
  },
  {
   "cell_type": "code",
   "execution_count": 51,
   "metadata": {},
   "outputs": [],
   "source": [
    "df_2018['year'] = 2018\n",
    "df_2019['year'] = 2019\n",
    "df_responses['year'] = 2020\n",
    "\n",
    "total_responses = pd.concat([df_2018[['Q2','Q3','year']],\n",
    "                             df_2019[['Q2','Q3','year']],\n",
    "                             df_responses[['Q2','Q3','year']]])\n",
    "\n",
    "total_responses=total_responses.groupby(['year','Q3']).count()"
   ]
  },
  {
   "cell_type": "code",
   "execution_count": 52,
   "metadata": {},
   "outputs": [],
   "source": [
    "total_responses = total_responses.reset_index()\n",
    "total_responses.columns = [\"year\", \"country\", \"count\"]"
   ]
  },
  {
   "cell_type": "code",
   "execution_count": 63,
   "metadata": {},
   "outputs": [],
   "source": [
    "total_responses.sort_values(by=[\"year\",\"count\"], inplace=True, ascending=[True, True])"
   ]
  },
  {
   "cell_type": "code",
   "execution_count": 64,
   "metadata": {},
   "outputs": [
    {
     "data": {
      "text/plain": [
       "'/home/harisyam/PycharmProjects/ML_WS/2020_kaggle_survey/fig5.html'"
      ]
     },
     "execution_count": 64,
     "metadata": {},
     "output_type": "execute_result"
    }
   ],
   "source": [
    "tl = Timeline()\n",
    "for i in range(2018, 2021):\n",
    "    data = total_responses.loc[total_responses.year == i].tail(20)\n",
    "    bar=Bar().add_xaxis(data['country'].values.tolist())\\\n",
    "    .add_yaxis('num responses', data['count'].values.tolist())\\\n",
    "    .set_series_opts(label_opts=opts.LabelOpts(position=\"inside\"))\\\n",
    "    .reversal_axis()\\\n",
    "    .set_global_opts(title_opts=opts.TitleOpts(title=\"Number of respondents wrt Country\", subtitle=\"2018 - 2020 Kaggle Survey\"),\n",
    "                 yaxis_opts=opts.AxisOpts(name='Country'), xaxis_opts=opts.AxisOpts(name='Count'))\n",
    "    \n",
    "    tl.add(bar, \"year:{}\".format(i))\n",
    "    \n",
    "tl.add_schema(is_auto_play=True, play_interval=2000)\n",
    "tl.render('fig5.html')"
   ]
  },
  {
   "cell_type": "code",
   "execution_count": 54,
   "metadata": {},
   "outputs": [],
   "source": [
    "asia_df = df_responses[df_responses[\"Continents\"]==\"Asia\"]\n",
    "america_df = df_responses[df_responses[\"Continents\"]==\"America\"]\n",
    "europe_df = df_responses[df_responses[\"Continents\"]==\"Europe\"]\n",
    "africa_df = df_responses[df_responses[\"Continents\"]==\"Africa\"]\n",
    "australia_df = df_responses[df_responses[\"Continents\"]==\"Australia\"]\n",
    "others_df = df_responses[df_responses[\"Continents\"]==\"Others\"]"
   ]
  },
  {
   "cell_type": "code",
   "execution_count": 55,
   "metadata": {
    "pycharm": {
     "name": "#%%\n"
    }
   },
   "outputs": [],
   "source": [
    "continents_count_df = pd.DataFrame(df_responses[\"Q2\"].value_counts())\n",
    "continents_count_df = continents_count_df.reset_index(drop=False)\n",
    "continents_count_df.columns = [\"Gender\",\"Count\"]\n",
    "\n",
    "asia_country_count_df = pd.DataFrame(asia_df[\"Q2\"].value_counts())\n",
    "asia_country_count_df = asia_country_count_df.reset_index(drop=False)\n",
    "asia_country_count_df.columns = [\"Gender\",\"Count\"]\n",
    "\n",
    "america_country_count_df = pd.DataFrame(america_df[\"Q2\"].value_counts())\n",
    "america_country_count_df = america_country_count_df.reset_index(drop=False)\n",
    "america_country_count_df.columns = [\"Gender\",\"Count\"]\n",
    "\n",
    "europe_country_count_df = pd.DataFrame(europe_df[\"Q2\"].value_counts())\n",
    "europe_country_count_df = europe_country_count_df.reset_index(drop=False)\n",
    "europe_country_count_df.columns = [\"Gender\",\"Count\"]\n",
    "\n",
    "others_country_count_df = pd.DataFrame(others_df[\"Q2\"].value_counts())\n",
    "others_country_count_df = others_country_count_df.reset_index(drop=False)\n",
    "others_country_count_df.columns = [\"Gender\",\"Count\"]\n",
    "\n",
    "africa_country_count_df = pd.DataFrame(africa_df[\"Q2\"].value_counts())\n",
    "africa_country_count_df = africa_country_count_df.reset_index(drop=False)\n",
    "africa_country_count_df.columns = [\"Gender\",\"Count\"]\n",
    "\n",
    "australia_country_count_df = pd.DataFrame(australia_df[\"Q2\"].value_counts())\n",
    "australia_country_count_df = australia_country_count_df.reset_index(drop=False)\n",
    "australia_country_count_df.columns = [\"Gender\",\"Count\"]"
   ]
  },
  {
   "cell_type": "code",
   "execution_count": 56,
   "metadata": {},
   "outputs": [
    {
     "data": {
      "text/plain": [
       "'/home/harisyam/PycharmProjects/ML_WS/2020_kaggle_survey/fig4.html'"
      ]
     },
     "execution_count": 56,
     "metadata": {},
     "output_type": "execute_result"
    }
   ],
   "source": [
    "pie_world = (\n",
    "    Pie()\n",
    "    .add(\n",
    "        \"World\",\n",
    "        [list(z) for z in zip(continents_count_df.Gender, continents_count_df.Count)],\n",
    "        center=[\"10%\", \"50%\"],\n",
    "        radius=[60, 80],\n",
    "        label_opts=opts.LabelOpts(formatter=\"World\", position=\"center\"),\n",
    "    )\n",
    "    .add(\n",
    "        \"Asia\",\n",
    "        [list(z) for z in zip(asia_country_count_df.Gender, asia_country_count_df.Count)],\n",
    "        center=[\"30%\", \"30%\"],\n",
    "        radius=[60, 80],\n",
    "        label_opts=opts.LabelOpts(formatter=\"Asia\", position=\"center\"),\n",
    "    )\n",
    "    .add(\n",
    "        \"Europe\",\n",
    "        [list(z) for z in zip(europe_country_count_df.Gender, europe_country_count_df.Count)],\n",
    "        center=[\"50%\", \"30%\"],\n",
    "        radius=[60, 80],\n",
    "        label_opts=opts.LabelOpts(formatter=\"Europe\", position=\"center\"),\n",
    "    )\n",
    "    .add(\n",
    "        \"Africa\",\n",
    "        [list(z) for z in zip(africa_country_count_df.Gender, africa_country_count_df.Count)],\n",
    "        center=[\"70%\", \"30%\"],\n",
    "        radius=[60, 80],\n",
    "        label_opts=opts.LabelOpts(formatter=\"Africa\", position=\"center\"),\n",
    "    )\n",
    "    .add(\n",
    "        \"America\",\n",
    "        [list(z) for z in zip(america_country_count_df.Gender, america_country_count_df.Count)],\n",
    "        center=[\"30%\", \"70%\"],\n",
    "        radius=[60, 80],\n",
    "        label_opts=opts.LabelOpts(formatter=\"America\", position=\"center\"),\n",
    "    )\n",
    "    .add(\n",
    "        \"Australia\",\n",
    "        [list(z) for z in zip(australia_country_count_df.Gender, australia_country_count_df.Count)],\n",
    "        center=[\"50%\", \"70%\"],\n",
    "        radius=[60, 80],\n",
    "        label_opts=opts.LabelOpts(formatter=\"Australia\", position=\"center\"),\n",
    "    )\n",
    "    .add(\n",
    "        \"Others\",\n",
    "        [list(z) for z in zip(others_country_count_df.Gender, others_country_count_df.Count)],\n",
    "        center=[\"70%\", \"70%\"],\n",
    "        radius=[60, 80],\n",
    "        label_opts=opts.LabelOpts(formatter=\"Others\", position=\"center\"),\n",
    "    )\n",
    "    .set_global_opts(\n",
    "        title_opts=opts.TitleOpts(title=\"Gender Distribution\",subtitle=\"wrt Continents\" ),\n",
    "        legend_opts=opts.LegendOpts(\n",
    "            type_=\"scroll\", pos_top=\"20%\", pos_left=\"80%\", orient=\"vertical\"\n",
    "        ),\n",
    "    )\n",
    ")\n",
    "\n",
    "pie.render('fig4.html')"
   ]
  },
  {
   "cell_type": "code",
   "execution_count": null,
   "metadata": {},
   "outputs": [],
   "source": []
  }
 ],
 "metadata": {
  "kernelspec": {
   "display_name": "Python 3",
   "language": "python",
   "name": "python3"
  },
  "language_info": {
   "codemirror_mode": {
    "name": "ipython",
    "version": 3
   },
   "file_extension": ".py",
   "mimetype": "text/x-python",
   "name": "python",
   "nbconvert_exporter": "python",
   "pygments_lexer": "ipython3",
   "version": "3.8.3"
  }
 },
 "nbformat": 4,
 "nbformat_minor": 1
}
